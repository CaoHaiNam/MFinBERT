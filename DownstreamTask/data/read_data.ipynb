{
 "cells": [
  {
   "cell_type": "markdown",
   "metadata": {},
   "source": [
    "# FinancialPhraseBank"
   ]
  },
  {
   "cell_type": "code",
   "execution_count": 1,
   "metadata": {},
   "outputs": [],
   "source": [
    "with open('FinancialPhraseBank-v1.0/Sentences_50Agree.txt', encoding='ISO-8859-1') as f:\n",
    "    data = []\n",
    "    for line in f:\n",
    "        line = line.strip('\\n').split('.@')\n",
    "        data.append(line)\n",
    "        # break"
   ]
  },
  {
   "cell_type": "code",
   "execution_count": 2,
   "metadata": {},
   "outputs": [
    {
     "name": "stdout",
     "output_type": "stream",
     "text": [
      "4846\n"
     ]
    }
   ],
   "source": [
    "print(len(data))"
   ]
  },
  {
   "cell_type": "code",
   "execution_count": 3,
   "metadata": {},
   "outputs": [
    {
     "data": {
      "text/plain": [
       "[['According to Gran , the company has no plans to move all production to Russia , although that is where the company is growing ',\n",
       "  'neutral'],\n",
       " ['Technopolis plans to develop in stages an area of no less than 100,000 square meters in order to host companies working in computer technologies and telecommunications , the statement said ',\n",
       "  'neutral'],\n",
       " ['The international electronic industry company Elcoteq has laid off tens of employees from its Tallinn facility ; contrary to earlier layoffs the company contracted the ranks of its office workers , the daily Postimees reported ',\n",
       "  'negative'],\n",
       " ['With the new production plant the company would increase its capacity to meet the expected increase in demand and would improve the use of raw materials and therefore increase the production profitability ',\n",
       "  'positive'],\n",
       " [\"According to the company 's updated strategy for the years 2009-2012 , Basware targets a long-term net sales growth in the range of 20 % -40 % with an operating profit margin of 10 % -20 % of net sales \",\n",
       "  'positive'],\n",
       " [\"FINANCING OF ASPOCOMP 'S GROWTH Aspocomp is aggressively pursuing its growth strategy by increasingly focusing on technologically more demanding HDI printed circuit boards PCBs \",\n",
       "  'positive'],\n",
       " [\"For the last quarter of 2010 , Componenta 's net sales doubled to EUR131m from EUR76m for the same period a year earlier , while it moved to a zero pre-tax profit from a pre-tax loss of EUR7m \",\n",
       "  'positive'],\n",
       " ['In the third quarter of 2010 , net sales increased by 5.2 % to EUR 205.5 mn , and operating profit by 34.9 % to EUR 23.5 mn ',\n",
       "  'positive'],\n",
       " ['Operating profit rose to EUR 13.1 mn from EUR 8.7 mn in the corresponding period in 2007 representing 7.7 % of net sales ',\n",
       "  'positive'],\n",
       " ['Operating profit totalled EUR 21.1 mn , up from EUR 18.6 mn in 2007 , representing 9.7 % of net sales ',\n",
       "  'positive']]"
      ]
     },
     "execution_count": 3,
     "metadata": {},
     "output_type": "execute_result"
    }
   ],
   "source": [
    "data[:10]"
   ]
  },
  {
   "cell_type": "markdown",
   "metadata": {},
   "source": [
    "# FiQA-task 1"
   ]
  },
  {
   "cell_type": "code",
   "execution_count": 5,
   "metadata": {},
   "outputs": [],
   "source": [
    "import json"
   ]
  },
  {
   "cell_type": "code",
   "execution_count": 8,
   "metadata": {},
   "outputs": [],
   "source": [
    "with open ('FiQA/task1/train/task1_headline_ABSA_train.json', 'r', encoding='utf-8') as f:\n",
    "    train_data_headline = json.load(f)\n",
    "with open ('FiQA/task1/train/task1_post_ABSA_train.json', 'r', encoding='utf-8') as f:\n",
    "    train_data_post = json.load(f)"
   ]
  },
  {
   "cell_type": "code",
   "execution_count": 9,
   "metadata": {},
   "outputs": [
    {
     "name": "stdout",
     "output_type": "stream",
     "text": [
      "436\n",
      "675\n"
     ]
    }
   ],
   "source": [
    "print(len(train_data_headline))\n",
    "print(len(train_data_post))"
   ]
  },
  {
   "cell_type": "code",
   "execution_count": 10,
   "metadata": {},
   "outputs": [
    {
     "name": "stdout",
     "output_type": "stream",
     "text": [
      "{'sentence': 'Royal Mail chairman Donald Brydon set to step down', 'info': [{'snippets': \"['set to step down']\", 'target': 'Royal Mail', 'sentiment_score': '-0.374', 'aspects': \"['Corporate/Appointment']\"}]}\n",
      "{'sentence': 'Stakes High for AstraZeneca Heart Drug Facing Tough Competition', 'info': [{'snippets': \"['Facing Tough Competition']\", 'target': 'AstraZeneca', 'sentiment_score': '-0.24', 'aspects': \"['Corporate/Risks']\"}]}\n",
      "{'sentence': 'UPDATE 1-Dairy Crest loses a third of Morrisons milk contract', 'info': [{'snippets': \"['Crest loses a third of Morrisons milk contract']\", 'target': 'Morrisons', 'sentiment_score': '-0.161', 'aspects': \"['Corporate/Sales/Failed Contract Discussion']\"}]}\n",
      "{'sentence': \"Insight hires Aviva's David Hillier for multi-asset team\", 'info': [{'snippets': \"['hires Aviva's David Hillier for multi-asset team']\", 'target': 'Insight', 'sentiment_score': '0.137', 'aspects': \"['Corporate/Appointment/Executive Appointment']\"}]}\n",
      "{'sentence': 'Primark racks up a happy Christmas after strong sales', 'info': [{'snippets': \"['after strong sales']\", 'target': 'Primark', 'sentiment_score': '0.704', 'aspects': \"['Corporate/Sales']\"}]}\n",
      "{'sentence': 'UPDATE 1-Pearson expects to grow this year after solid end to 2014', 'info': [{'snippets': \"['to grow this year after solid end to 2014']\", 'target': 'Pearson', 'sentiment_score': '0.446', 'aspects': \"['Stock/Fundamentals']\"}]}\n",
      "{'sentence': 'Tesco sells Blinkbox and broadband service to TalkTalk', 'info': [{'snippets': \"['sells Blinkbox and broadband service to']\", 'target': 'TalkTalk', 'sentiment_score': '0.136', 'aspects': \"['Corporate/Sales/Deal']\"}, {'snippets': \"['sells Blinkbox and broadband service to']\", 'target': 'Tesco', 'sentiment_score': '0.192', 'aspects': \"['Corporate/Sales/Deal']\"}]}\n",
      "{'sentence': 'Unilever profit rises despite sales slump in China', 'info': [{'snippets': \"['despite sales slump']\", 'target': 'Unilever', 'sentiment_score': '0.213', 'aspects': \"['Corporate/Sales']\"}]}\n",
      "{'sentence': 'Tesco leads leap in FTSE 100; Marks & Spencer drops', 'info': [{'snippets': \"['Tesco leads leap in FTSE 100; ']\", 'target': 'Tesco', 'sentiment_score': '0.389', 'aspects': \"['Stock/Technical Analysis/Trend/Trending up']\"}]}\n",
      "{'sentence': 'Royal Dutch Shell profit rises; dividend up 4%', 'info': [{'snippets': \"['dividend up 4%']\", 'target': 'Royal Dutch Shell', 'sentiment_score': '0.65', 'aspects': \"['Corporate/Dividend Policy']\"}]}\n",
      "{'sentence': 'Slowly adding some $FIO here but gotta be careful. This will be one of biggest winners in 2012', 'info': [{'snippets': \"['Slowly adding some $FIO here but gotta be careful']\", 'sentiment_score': '0.459', 'target': 'FIO', 'aspects': \"['Stock/Price Action/Bullish/Bull Position']\"}]}\n",
      "{'sentence': '$TRX http://stks.co/1KkK Long setup. MACD cross.', 'info': [{'snippets': \"['Long setup. MACD cross.']\", 'sentiment_score': '0.438', 'target': 'TRX', 'aspects': \"['Stock/Technical Analysis']\"}]}\n",
      "{'sentence': 'I am not optimistic about $amzn both fundementals and charts look like poopoo this quarter.', 'info': [{'snippets': \"['both fundementals and charts look like poopoo this quarter.']\", 'sentiment_score': '-0.506', 'target': 'AMZN', 'aspects': \"['Stock/Price Action/Bearish']\"}]}\n",
      "{'sentence': '$GRPN might be selling off ahead of $P earnings...', 'info': [{'snippets': \"['might be selling off ahead']\", 'sentiment_score': '-0.202', 'target': 'P', 'aspects': \"['Stock/Price Action/Bearish/Bearish Behavior']\"}]}\n",
      "{'sentence': '$IACI http://stks.co/tJU Looks good on the weekly chart.', 'info': [{'snippets': \"['Looks good on the weekly chart.']\", 'sentiment_score': '0.379', 'target': 'IACI', 'aspects': \"['Stock/Technical Analysis']\"}]}\n",
      "{'sentence': '$pcln back over \"up\" trendline from 10/4', 'info': [{'snippets': '[\\'back over \"up\" trendline\\']', 'sentiment_score': '0.308', 'target': 'PCLN', 'aspects': \"['Stock/Price Action/Bullish']\"}]}\n",
      "{'sentence': 'RT @robbieLOLZ $NFLX A close above here is looking good for the bulls. Will hold my positions to see where we close at. Keep buying here.', 'info': [{'snippets': \"['A close above here is looking good for the bulls']\", 'sentiment_score': '0.578', 'target': 'NFLX', 'aspects': \"['Stock/Price Action/Bullish/Bullish Behavior']\"}]}\n",
      "{'sentence': \"Profit taking on $AAPL this morning?  That has to be the pressure on the stock.  I'm still bullish on $AAPL.\", 'info': [{'snippets': \"['That has to be the pressure on the stock']\", 'sentiment_score': '0.222', 'target': 'AAPL', 'aspects': \"['Stock/Price Action/Bearish']\"}]}\n",
      "{'sentence': '$SKX turning. Coming from far could go far. Stock price implies you pay nothing for the business', 'info': [{'snippets': \"['Stock price implies you pay nothing for the business']\", 'sentiment_score': '0.298', 'target': 'SKX', 'aspects': \"['Stock/Price Action/Bullish']\"}]}\n",
      "{'sentence': '$MOS looking good here at $58.65. Calls are active in this month and weekly', 'info': [{'snippets': \"['Calls are active in this month and weekly']\", 'sentiment_score': '0.492', 'target': 'MOS', 'aspects': \"['Stock/Options/Strategies']\"}]}\n"
     ]
    }
   ],
   "source": [
    "for i in list(train_data_headline.keys())[:10]:\n",
    "    print(train_data_headline[i])\n",
    "\n",
    "for i in list(train_data_post.keys())[:10]:\n",
    "    print(train_data_post[i])"
   ]
  },
  {
   "cell_type": "markdown",
   "metadata": {},
   "source": [
    "# FiQA-task 2\n"
   ]
  },
  {
   "cell_type": "code",
   "execution_count": null,
   "metadata": {},
   "outputs": [],
   "source": []
  },
  {
   "cell_type": "markdown",
   "metadata": {},
   "source": [
    "<!-- with open ('FiQA/task2/train/task1_headline_ABSA_train.json', 'r', encoding='utf-8') as f:\n",
    "    train_data_headline = json.load(f)\n",
    "with open ('FiQA/task1/test/task1_headline_ABSA_test.json', 'r', encoding='utf-8') as f:\n",
    "    test_data_headline = json.load(f) -->"
   ]
  },
  {
   "cell_type": "markdown",
   "metadata": {},
   "source": [
    "# Causality Detection"
   ]
  },
  {
   "cell_type": "code",
   "execution_count": 12,
   "metadata": {},
   "outputs": [],
   "source": [
    "import pandas as pd"
   ]
  },
  {
   "cell_type": "code",
   "execution_count": 27,
   "metadata": {},
   "outputs": [],
   "source": [
    "with open('Causality Detection/fnp2020-task1-train.csv', 'r', encoding='utf-8') as fp:\n",
    "            ref_csv = fp.readlines()\n",
    "train_data = []\n",
    "for i in ref_csv[1:]:\n",
    "    i = i.strip('\\n').strip().split(';')\n",
    "    train_data.append([i[1], int(i[2])])\n",
    "\n",
    "with open('Causality Detection/fnp2020-task1-test.csv', 'r', encoding='utf-8') as fp:\n",
    "            ref_csv = fp.readlines()\n",
    "test_data = []\n",
    "for i in ref_csv[1:]:\n",
    "    i = i.strip('\\n').strip().split(';')\n",
    "    test_data.append([i[1], int(i[2])])\n"
   ]
  },
  {
   "cell_type": "code",
   "execution_count": 28,
   "metadata": {},
   "outputs": [
    {
     "name": "stdout",
     "output_type": "stream",
     "text": [
      "len train data: 13478\n",
      "len test data: 8580\n"
     ]
    }
   ],
   "source": [
    "print('len train data: {}'.format(len(train_data)))\n",
    "print('len test data: {}'.format(len(test_data)))"
   ]
  },
  {
   "cell_type": "code",
   "execution_count": 29,
   "metadata": {},
   "outputs": [
    {
     "data": {
      "text/plain": [
       "[[\" Florida raking in billions as Americans abandon high-tax states By Brittany De LeaEconomic IndicatorsFOXBusiness  video  DeBianchi Real Estate's Samantha DeBianchi gives her take on the new mansion tax in NYC and the great tax exodus. State governments can benefit greatly from an influx of movers  -  enjoying everything from increased tax revenues to new business activity.\",\n",
       "  0],\n",
       " [' Recently, changes to the U.S. tax code have encouraged an increasing number of people to move  -  taking their cash to lower-tax states like Florida.',\n",
       "  0],\n",
       " [' MORE FROM FOXBUSINESS.COM... As it turns out, however, Florida has been banking on moving trends even prior to the implementation of the new tax law.',\n",
       "  0],\n",
       " [' According to a new study from LendingTree, which analyzed IRS data from 2016, Florida is the number one largest beneficiary from relocations out of all 50 states  -  by a landslide.',\n",
       "  0],\n",
       " [\" The Sunshine State drew in a net influx of about $17.7 billion in adjusted gross income (AGI)  -  most of which (72 percent) came from those aged 55 and older. It is consistently one of the most popular destinations for retirees due to affordability and low taxes. Florida's $17.7 billion in net AGI dwarves the remaining 19 states that saw a positive net influx of income  -  which combined for a total of $19.4 billion.\",\n",
       "  1],\n",
       " [' South Carolina and another no-income tax state  -  Texas  -  trailed Florida, with net adjusted income totals around $2.25 billion apiece.',\n",
       "  0],\n",
       " [' Florida is unique in that it also draws a large proportion of higher net-worth individuals  -  more than 85 percent of its net inflow of income came from people earning at least six-figures.',\n",
       "  1],\n",
       " [' On the flip side, New York lost the largest amount of adjusted gross income from migration, about $8.8 billion. Another high-tax state, Connecticut, had the largest income loss relative to its overall economy  -  at $2.6 billion.',\n",
       "  0],\n",
       " [' Connecticut, Pennsylvania, New Jersey, Illinois and New York lost about half of their income from people earning more than $200,000  -  indicating the wealthy were picking up and leaving.',\n",
       "  1],\n",
       " [' While the study analyzed data from 2016, this trend has likely only intensified thanks to recent changes to the U.S. tax code. A $10,000 cap on state and local tax deductions has caused an exodus from states like New York, Connecticut and California  -  where tax burdens were already onerous  -  to low-tax states like Florida, Texas and Nevada.',\n",
       "  0]]"
      ]
     },
     "execution_count": 29,
     "metadata": {},
     "output_type": "execute_result"
    }
   ],
   "source": [
    "train_data[:10]"
   ]
  },
  {
   "cell_type": "code",
   "execution_count": null,
   "metadata": {},
   "outputs": [],
   "source": []
  },
  {
   "cell_type": "markdown",
   "metadata": {},
   "source": [
    "# Lithuania news sentiment"
   ]
  },
  {
   "cell_type": "code",
   "execution_count": 50,
   "metadata": {},
   "outputs": [],
   "source": [
    "import pandas as pd\n",
    "from unidecode import unidecode"
   ]
  },
  {
   "cell_type": "code",
   "execution_count": 40,
   "metadata": {},
   "outputs": [],
   "source": [
    "df = pd.read_csv('LithuanianNewsSentiment/dataset(original).csv', sep=';', header=None, engine='python', skiprows=1, names = [\"Class\",\"Text\"], encoding='unicode_escape')"
   ]
  },
  {
   "cell_type": "code",
   "execution_count": 49,
   "metadata": {},
   "outputs": [
    {
     "name": "stdout",
     "output_type": "stream",
     "text": [
      "  Class                                               Text\n",
      "0   POS  2019-2020 finansiniais metais Dotnuvos Baltic...\n",
      "1   POS  Anot jo, átakos rezultatams turëjo ir suvaldyt...\n",
      "2   POS  Ðiemet, po dvejø gana prastø metø, derliaus pr...\n",
      "3   POS  Þemës ûkio technikos aptarnavimo veiklos pajam...\n",
      "4   POS  Naujais finansiniais metais bendrovë koncentru...\n",
      "5   POS  Pasaulio akcijø birþose vakcinos lûkesèiø prad...\n",
      "6   POS  Pasaulinë naujø orlaiviø paklausa pandemijos p...\n",
      "7   POS  Optimizmà dël Kinijos Boeing grindþia progno...\n",
      "8   NEU  NASA penktadiená praneðë, kad pilotuojamas ben...\n",
      "9   NEG  Praneðama, kad laiðkà L. Kukuraièiui praëjusi...\n"
     ]
    }
   ],
   "source": [
    "print(df.head(10))"
   ]
  },
  {
   "cell_type": "code",
   "execution_count": 42,
   "metadata": {},
   "outputs": [
    {
     "data": {
      "text/plain": [
       "POS    5780\n",
       "NEG    2598\n",
       "NEU    1997\n",
       "Name: Class, dtype: int64"
      ]
     },
     "execution_count": 42,
     "metadata": {},
     "output_type": "execute_result"
    }
   ],
   "source": [
    "df['Class'].value_counts()"
   ]
  },
  {
   "cell_type": "code",
   "execution_count": 52,
   "metadata": {},
   "outputs": [],
   "source": [
    "data = []\n",
    "for i in range(len(df)):\n",
    "    text, cl = unidecode(df['Text'][i]), df['Class'][i]\n",
    "    data.append([text, cl])"
   ]
  },
  {
   "cell_type": "code",
   "execution_count": 54,
   "metadata": {},
   "outputs": [
    {
     "data": {
      "text/plain": [
       "[['2019-2020 finansiniais metais Dotnuvos Baltic pajamos mathejo 0,9 proc. iki 68,9 mln. euro, o pelnas augo 11 proc. iki 7,2 mln. euro. Daugiausia atakos tam turejo idaugusi prekyba nauja themes ukio technika Lietuvoje, pranede bendrove.',\n",
       "  'POS'],\n",
       " ['Anot jo, atakos rezultatams turejo ir suvaldyta pirmosios pandemijos bangos ataka.',\n",
       "  'POS'],\n",
       " ['Diemet, po dvejo gana prasto meto, derliaus prognozes buvo kur kas optimistidkesnes, tad muso klientai turejo daugiau galimybio investuoti a nauja technika. Juos tam paskatino ir europines programos themes ukio technikos atnaujinimui,  pranedime sake amones vadovas Jonas Bakdys.',\n",
       "  'POS'],\n",
       " ['Themes ukio technikos aptarnavimo veiklos pajamas bendrove augino 25 procentais. Pardavimai id seklo veiklos mathejo 2 proc., tai leme vidutinidkai 5,5 proc. sumathejusi kaina, kuriai atakos turejo pigesne thaliava.',\n",
       "  'POS'],\n",
       " ['Naujais finansiniais metais bendrove koncentruosis a seklo ruodimo pajegumo didinima  ji yra suplanavusi 1,3 mln. euro investicija a sandela, taip pat a arangos ir technikos asortimento atnaujinima, idmaniosios themdirbystes ar idmaniasias drenatho sistemas.',\n",
       "  'POS'],\n",
       " ['Pasaulio akcijo birthose vakcinos lukeseio pradthiuginti investuotojai grathta skaieiuoti tebeauganeio COVID19 atvejo skaieiaus. Gerejaneius rezultatus paskelbusi Ignitis grupe vis dar neatikina pirkejo sugrathti.',\n",
       "  'POS'],\n",
       " ['Pasauline naujo orlaivio paklausa pandemijos pasekmes jus ne vienerius metus, kai kurie ekspertai prognozuoja, kad jai atsigauti prireiks ir dedimtmeeio. Nepaisant to, Boeing ka tik pagerino savo prognozes del pardavimo Kinijoje  dabar orlaivio gamintojas ateinaneiam dvidedimtmeeiui dioje rinkoje prognozuoja parduosiantis net daugiau naujo lektuvo nei prognozavo pried pandemija.',\n",
       "  'POS'],\n",
       " ['Optimizma del Kinijos Boeing grindthia prognozemis, kad eia keleivinio reiso apimtys atsigaus, o paskui ir augs greieiau nei likusiame pasaulyje  po 5,5% kasmet ateinaneius 20 meto, palyginus su 4% prognozuojamu tarptautiniu augimu.',\n",
       "  'POS'],\n",
       " ['NASA penktadiena pranede, kad pilotuojamas bendroves SpaceX erdvelaivio skrydis a Tarptautinae kosminae stota (TKS), turejaes avykti dedtadiena, atidedamas parai del nepalankio oro.',\n",
       "  'NEU'],\n",
       " ['Pranedama, kad laidka L. Kukuraieiui praejusio meto gruoda parade Vaiko idlaikymo fondo Finanso ir apskaitos skyriaus vedeja Viktorija Kaplan-Baranova bei Idmoko skyriaus vedeja Regina Dagiene, kurios nuogastavo, kad fondas gali bendrovei Algoritmo sistemos sumoketi beveik 50 tukst. euro uth informacines sistemos adiegima, nors di neveikia.',\n",
       "  'NEG']]"
      ]
     },
     "execution_count": 54,
     "metadata": {},
     "output_type": "execute_result"
    }
   ],
   "source": [
    "data[:10]"
   ]
  },
  {
   "cell_type": "code",
   "execution_count": null,
   "metadata": {},
   "outputs": [],
   "source": []
  }
 ],
 "metadata": {
  "interpreter": {
   "hash": "ae490cf69036ed64c59d5c8802d2c69aa270208e908239877fa8309aa176cebb"
  },
  "kernelspec": {
   "display_name": "Python ('VirtualBot')",
   "language": "python",
   "name": "python3"
  },
  "language_info": {
   "codemirror_mode": {
    "name": "ipython",
    "version": 3
   },
   "file_extension": ".py",
   "mimetype": "text/x-python",
   "name": "python",
   "nbconvert_exporter": "python",
   "pygments_lexer": "ipython3",
   "version": "3.8.8"
  },
  "orig_nbformat": 4
 },
 "nbformat": 4,
 "nbformat_minor": 2
}
